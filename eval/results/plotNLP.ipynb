{
 "cells": [
  {
   "cell_type": "code",
   "execution_count": 1,
   "id": "5b94fd57-a0a5-4afc-915c-8cdfbaf0a451",
   "metadata": {},
   "outputs": [],
   "source": [
    "import rdkit\n",
    "from rdkit import Chem, DataStructs\n",
    "from rdkit.Chem import AllChem, Descriptors\n",
    "import rdkit.Chem.QED as QED\n",
    "from rdkit import rdBase\n",
    "\n",
    "rdBase.DisableLog(\"rdApp.error\")\n",
    "from rdkit.Chem import rdMolDescriptors\n",
    "from rdkit.six import iteritems\n",
    "\n",
    "import sys\n",
    "import logging\n",
    "import pandas as pd"
   ]
  },
  {
   "cell_type": "code",
   "execution_count": 54,
   "id": "7c69a66b-a665-47cd-a508-ce1b2566cb02",
   "metadata": {},
   "outputs": [],
   "source": [
    "file_names = [\"out_1000_train_experiment.csv\",\"out_50_train_experiment.csv\",\"out_400_train_experiment.csv\",\n",
    "             \"out_200_train_experiment.csv\",\"out_100_train_experiment.csv\",\"out_10_train_experiment.csv\"]"
   ]
  },
  {
   "cell_type": "code",
   "execution_count": 43,
   "id": "47e28a88-4839-4228-83f0-48065a0e2269",
   "metadata": {},
   "outputs": [
    {
     "name": "stdout",
     "output_type": "stream",
     "text": [
      "Index(['Real Response', 'Model Response', 'top_0', 'top_1', 'top_2', 'top_3',\n",
      "       'top_4', 'top_5', 'top_6', 'top_7', 'top_8', 'top_9'],\n",
      "      dtype='object')\n",
      "Index(['Real Response', 'Model Response', 'top_0', 'top_1', 'top_2', 'top_3',\n",
      "       'top_4', 'top_5', 'top_6', 'top_7', 'top_8', 'top_9'],\n",
      "      dtype='object')\n",
      "Index(['Real Response', 'Model Response', 'top_0', 'top_1', 'top_2', 'top_3',\n",
      "       'top_4', 'top_5', 'top_6', 'top_7', 'top_8', 'top_9'],\n",
      "      dtype='object')\n",
      "Index(['Real Response', 'Model Response', 'top_0', 'top_1', 'top_2', 'top_3',\n",
      "       'top_4', 'top_5', 'top_6', 'top_7', 'top_8', 'top_9'],\n",
      "      dtype='object')\n",
      "Index(['Real Response', 'Model Response', 'top_0', 'top_1', 'top_2', 'top_3',\n",
      "       'top_4', 'top_5', 'top_6', 'top_7', 'top_8', 'top_9'],\n",
      "      dtype='object')\n",
      "Index(['Real Response', 'Model Response', 'top_0', 'top_1', 'top_2', 'top_3',\n",
      "       'top_4', 'top_5', 'top_6', 'top_7', 'top_8', 'top_9'],\n",
      "      dtype='object')\n",
      "Index(['Real Response', 'Model Response', 'top_0', 'top_1', 'top_2', 'top_3',\n",
      "       'top_4', 'top_5', 'top_6', 'top_7', 'top_8', 'top_9'],\n",
      "      dtype='object')\n"
     ]
    }
   ],
   "source": [
    "# checking all columns are the same:\n",
    "def colsdf(file_path):\n",
    "    df = pd.read_csv(f'Downloads/{file_path}')\n",
    "    return df.columns\n",
    "for i in file_names:\n",
    "    print(colsdf(i))"
   ]
  },
  {
   "cell_type": "code",
   "execution_count": 44,
   "id": "5a752294-3aca-4da0-966f-9f9e28b5619c",
   "metadata": {},
   "outputs": [
    {
     "data": {
      "text/plain": [
       "Index(['Real Response', 'Model Response', 'top_0', 'top_1', 'top_2', 'top_3',\n",
       "       'top_4', 'top_5', 'top_6', 'top_7', 'top_8', 'top_9'],\n",
       "      dtype='object')"
      ]
     },
     "execution_count": 44,
     "metadata": {},
     "output_type": "execute_result"
    }
   ],
   "source": [
    "df.columns"
   ]
  },
  {
   "cell_type": "code",
   "execution_count": 2,
   "id": "bb29bcb7-9ff6-433a-a294-26dea4fdfe4e",
   "metadata": {},
   "outputs": [],
   "source": [
    "def setup_logger():\n",
    "    logger = logging.getLogger(\"eval_contam\")\n",
    "    logger.setLevel(logging.INFO)\n",
    "\n",
    "    formatter = logging.Formatter(\"%(asctime)s - %(levelname)s - %(module)s - %(message)s\")\n",
    "    sh = logging.StreamHandler(sys.stdout)\n",
    "    sh.setFormatter(formatter)\n",
    "\n",
    "    logger.addHandler(sh)\n",
    "    return logger\n",
    "\n",
    "logger = setup_logger()\n",
    "\n",
    "\n",
    "def similarity(smiles_a, smiles_b):\n",
    "    \"\"\"Evaluate Tanimoto similarity between 2 SMILES strings\n",
    "\n",
    "    Args:\n",
    "      smiles_a: str, SMILES string\n",
    "      smiles_b: str, SMILES string\n",
    "\n",
    "    Returns:\n",
    "      similarity score: float, between 0 and 1.\n",
    "\n",
    "    \"\"\"\n",
    "    if smiles_a is None or smiles_b is None:\n",
    "        return 0.0\n",
    "    amol = Chem.MolFromSmiles(smiles_a)\n",
    "    bmol = Chem.MolFromSmiles(smiles_b)\n",
    "    if amol is None or bmol is None:\n",
    "        return 0.0\n",
    "    fp1 = AllChem.GetMorganFingerprintAsBitVect(amol, 2, nBits=2048, useChirality=False)\n",
    "    fp2 = AllChem.GetMorganFingerprintAsBitVect(bmol, 2, nBits=2048, useChirality=False)\n",
    "    return DataStructs.TanimotoSimilarity(fp1, fp2)\n",
    "\n",
    "def score_against_known_drugs(smiles_query, smiles_list):\n",
    "    \"\"\"Evaluate if a given SMILES string is close to a known list of SMILES strings\n",
    "    Args:\n",
    "      smiles_query: str, SMILES string\n",
    "      smiles_list: list of str, SMILES strings\n",
    "      \n",
    "      Returns:\n",
    "      similarity score: float, between 0 and 1.\n",
    "      \n",
    "    \"\"\"\n",
    "    similarity_list = []\n",
    "    for smi in smiles_list:\n",
    "        similarity_list.append(similarity(smi, smiles_query))\n",
    "    return max(similarity_list)"
   ]
  },
  {
   "cell_type": "code",
   "execution_count": 27,
   "id": "7aae4d62-4850-4594-ac3d-bfc20377c049",
   "metadata": {},
   "outputs": [],
   "source": [
    "def similarity_total(filepath, col1, col2):\n",
    "    \"\"\"\n",
    "    takes a csv filepath string\n",
    "    turns it to df. \n",
    "    gets the headers of 2 columns to compare.\n",
    "    compares the strings in the two columns.\n",
    "    returns different statistics.\n",
    "    \"\"\"\n",
    "    df = pd.read_csv(filepath)\n",
    "    # df['similarity_column'] = df.apply(similarity, axis=1)\n",
    "    similarity_vals = []\n",
    "    cols = df.columns\n",
    "    # print(df)\n",
    "    for index, row in df.iterrows():\n",
    "        # print(\"Here\")\n",
    "        SMILE1 = row[col1]\n",
    "        # print(SMILE1, type(SMILE1))\n",
    "        SMILE2 = row[col2]\n",
    "        # print(SMILE2, type(SMILE2))\n",
    "        if not isinstance(SMILE1, str) or not isinstance(SMILE2, str):\n",
    "            similarity_vals.append(None)\n",
    "        else:\n",
    "            similarity_vals.append(similarity(SMILE1, SMILE2))\n",
    "\n",
    "    df['similarity_column'] = similarity_vals\n",
    "    #getting stats\n",
    "    average_value = df['similarity_column'].mean()\n",
    "    max_value = df['similarity_column'].max()\n",
    "    min_value = df['similarity_column'].min()\n",
    "\n",
    "    stats = {\"Mean\" : average_value, \"Max\": max_value, \"Min\": min_value}\n",
    "\n",
    "    return stats"
   ]
  },
  {
   "cell_type": "code",
   "execution_count": 28,
   "id": "53aba733-985f-4c10-8887-0edb07f5e647",
   "metadata": {},
   "outputs": [
    {
     "data": {
      "text/plain": [
       "'CCCCCC(C=CC1C(CC(=O)C1CCCCCCC(=O)O)O)O'"
      ]
     },
     "execution_count": 28,
     "metadata": {},
     "output_type": "execute_result"
    }
   ],
   "source": [
    "df = pd.read_csv(\"out_50_train_experiment.csv\")\n",
    "# type(df[\"top_0\"][10]) == \n",
    "df[\"Real Response\"][10]"
   ]
  },
  {
   "cell_type": "code",
   "execution_count": 31,
   "id": "c918b772-600b-4e93-8405-81adf66dab00",
   "metadata": {},
   "outputs": [
    {
     "name": "stderr",
     "output_type": "stream",
     "text": [
      "[14:35:13] WARNING: not removing hydrogen atom without neighbors\n",
      "[14:35:13] WARNING: not removing hydrogen atom without neighbors\n",
      "[14:35:13] WARNING: not removing hydrogen atom without neighbors\n",
      "[14:35:13] WARNING: not removing hydrogen atom without neighbors\n",
      "[14:35:13] WARNING: not removing hydrogen atom without neighbors\n",
      "[14:35:13] WARNING: not removing hydrogen atom without neighbors\n",
      "[14:35:13] WARNING: not removing hydrogen atom without neighbors\n",
      "[14:35:13] WARNING: not removing hydrogen atom without neighbors\n",
      "[14:35:13] WARNING: not removing hydrogen atom without neighbors\n",
      "[14:35:13] WARNING: not removing hydrogen atom without neighbors\n",
      "[14:35:13] WARNING: not removing hydrogen atom without neighbors\n",
      "[14:35:13] WARNING: not removing hydrogen atom without neighbors\n",
      "[14:35:13] WARNING: not removing hydrogen atom without neighbors\n",
      "[14:35:13] WARNING: not removing hydrogen atom without neighbors\n",
      "[14:35:13] WARNING: not removing hydrogen atom without neighbors\n",
      "[14:35:13] WARNING: not removing hydrogen atom without neighbors\n",
      "[14:35:13] WARNING: not removing hydrogen atom without neighbors\n",
      "[14:35:13] WARNING: not removing hydrogen atom without neighbors\n",
      "[14:35:13] WARNING: not removing hydrogen atom without neighbors\n",
      "[14:35:13] WARNING: not removing hydrogen atom without neighbors\n",
      "[14:35:13] WARNING: not removing hydrogen atom without neighbors\n",
      "[14:35:13] WARNING: not removing hydrogen atom without neighbors\n",
      "[14:35:13] WARNING: not removing hydrogen atom without neighbors\n",
      "[14:35:13] WARNING: not removing hydrogen atom without neighbors\n",
      "[14:35:13] WARNING: not removing hydrogen atom without neighbors\n",
      "[14:35:13] WARNING: not removing hydrogen atom without neighbors\n",
      "[14:35:13] WARNING: not removing hydrogen atom without neighbors\n",
      "[14:35:13] WARNING: not removing hydrogen atom without neighbors\n",
      "[14:35:13] WARNING: not removing hydrogen atom without neighbors\n",
      "[14:35:13] WARNING: not removing hydrogen atom without neighbors\n",
      "[14:35:13] WARNING: not removing hydrogen atom without neighbors\n",
      "[14:35:13] WARNING: not removing hydrogen atom without neighbors\n",
      "[14:35:13] WARNING: not removing hydrogen atom without neighbors\n",
      "[14:35:13] WARNING: not removing hydrogen atom without neighbors\n",
      "[14:35:13] WARNING: not removing hydrogen atom without neighbors\n",
      "[14:35:13] WARNING: not removing hydrogen atom without neighbors\n"
     ]
    },
    {
     "name": "stdout",
     "output_type": "stream",
     "text": [
      "trained on 1000. Similarity mean of the model and actual response of 0.11609562654938131, Similarity mean of the model and top 1 GraphGA of 0.10905928948763206, \n",
      " Similarity mean of the model and top 5 GraphGA of 0.10590331036652197, Similarity mean of the model and top 10 GraphGA of 0.10522491235604123\n"
     ]
    },
    {
     "name": "stderr",
     "output_type": "stream",
     "text": [
      "[14:35:13] WARNING: not removing hydrogen atom without neighbors\n",
      "[14:35:13] WARNING: not removing hydrogen atom without neighbors\n",
      "[14:35:13] WARNING: not removing hydrogen atom without neighbors\n",
      "[14:35:13] WARNING: not removing hydrogen atom without neighbors\n",
      "[14:35:13] WARNING: not removing hydrogen atom without neighbors\n",
      "[14:35:13] WARNING: not removing hydrogen atom without neighbors\n",
      "[14:35:13] WARNING: not removing hydrogen atom without neighbors\n",
      "[14:35:13] WARNING: not removing hydrogen atom without neighbors\n",
      "[14:35:13] WARNING: not removing hydrogen atom without neighbors\n",
      "[14:35:13] Conflicting single bond directions around double bond at index 18.\n",
      "[14:35:13]   BondStereo set to STEREONONE and single bond directions set to NONE.\n"
     ]
    },
    {
     "name": "stdout",
     "output_type": "stream",
     "text": [
      "trained on 50. Similarity mean of the model and actual response of 0.09341608946183738, Similarity mean of the model and top 1 GraphGA of 0.10307340163262027, \n",
      " Similarity mean of the model and top 5 GraphGA of 0.10173183316011163, Similarity mean of the model and top 10 GraphGA of 0.09589916512537361\n"
     ]
    },
    {
     "name": "stderr",
     "output_type": "stream",
     "text": [
      "[14:35:13] WARNING: not removing hydrogen atom without neighbors\n",
      "[14:35:13] WARNING: not removing hydrogen atom without neighbors\n",
      "[14:35:13] WARNING: not removing hydrogen atom without neighbors\n",
      "[14:35:13] WARNING: not removing hydrogen atom without neighbors\n",
      "[14:35:13] WARNING: not removing hydrogen atom without neighbors\n",
      "[14:35:13] WARNING: not removing hydrogen atom without neighbors\n",
      "[14:35:13] WARNING: not removing hydrogen atom without neighbors\n",
      "[14:35:13] WARNING: not removing hydrogen atom without neighbors\n",
      "[14:35:13] WARNING: not removing hydrogen atom without neighbors\n",
      "[14:35:13] WARNING: not removing hydrogen atom without neighbors\n",
      "[14:35:13] WARNING: not removing hydrogen atom without neighbors\n",
      "[14:35:13] WARNING: not removing hydrogen atom without neighbors\n",
      "[14:35:13] WARNING: not removing hydrogen atom without neighbors\n",
      "[14:35:13] WARNING: not removing hydrogen atom without neighbors\n",
      "[14:35:13] WARNING: not removing hydrogen atom without neighbors\n",
      "[14:35:13] WARNING: not removing hydrogen atom without neighbors\n",
      "[14:35:13] WARNING: not removing hydrogen atom without neighbors\n",
      "[14:35:13] WARNING: not removing hydrogen atom without neighbors\n",
      "[14:35:13] WARNING: not removing hydrogen atom without neighbors\n",
      "[14:35:13] WARNING: not removing hydrogen atom without neighbors\n",
      "[14:35:13] WARNING: not removing hydrogen atom without neighbors\n",
      "[14:35:13] WARNING: not removing hydrogen atom without neighbors\n",
      "[14:35:13] WARNING: not removing hydrogen atom without neighbors\n",
      "[14:35:13] WARNING: not removing hydrogen atom without neighbors\n",
      "[14:35:13] WARNING: not removing hydrogen atom without neighbors\n",
      "[14:35:13] WARNING: not removing hydrogen atom without neighbors\n",
      "[14:35:13] WARNING: not removing hydrogen atom without neighbors\n",
      "[14:35:13] WARNING: not removing hydrogen atom without neighbors\n",
      "[14:35:13] WARNING: not removing hydrogen atom without neighbors\n",
      "[14:35:13] WARNING: not removing hydrogen atom without neighbors\n",
      "[14:35:13] WARNING: not removing hydrogen atom without neighbors\n",
      "[14:35:13] WARNING: not removing hydrogen atom without neighbors\n",
      "[14:35:13] WARNING: not removing hydrogen atom without neighbors\n",
      "[14:35:13] WARNING: not removing hydrogen atom without neighbors\n",
      "[14:35:13] WARNING: not removing hydrogen atom without neighbors\n",
      "[14:35:13] WARNING: not removing hydrogen atom without neighbors\n"
     ]
    },
    {
     "name": "stdout",
     "output_type": "stream",
     "text": [
      "trained on 400. Similarity mean of the model and actual response of 0.12427416501914836, Similarity mean of the model and top 1 GraphGA of 0.10627960314702341, \n",
      " Similarity mean of the model and top 5 GraphGA of 0.10798887204763791, Similarity mean of the model and top 10 GraphGA of 0.10958080936355075\n"
     ]
    },
    {
     "name": "stderr",
     "output_type": "stream",
     "text": [
      "[14:35:13] WARNING: not removing hydrogen atom without neighbors\n",
      "[14:35:13] WARNING: not removing hydrogen atom without neighbors\n",
      "[14:35:13] WARNING: not removing hydrogen atom without neighbors\n",
      "[14:35:13] WARNING: not removing hydrogen atom without neighbors\n",
      "[14:35:13] WARNING: not removing hydrogen atom without neighbors\n",
      "[14:35:13] WARNING: not removing hydrogen atom without neighbors\n",
      "[14:35:13] WARNING: not removing hydrogen atom without neighbors\n",
      "[14:35:13] WARNING: not removing hydrogen atom without neighbors\n",
      "[14:35:13] WARNING: not removing hydrogen atom without neighbors\n",
      "[14:35:14] WARNING: not removing hydrogen atom without neighbors\n",
      "[14:35:14] WARNING: not removing hydrogen atom without neighbors\n",
      "[14:35:14] WARNING: not removing hydrogen atom without neighbors\n",
      "[14:35:14] WARNING: not removing hydrogen atom without neighbors\n",
      "[14:35:14] WARNING: not removing hydrogen atom without neighbors\n",
      "[14:35:14] WARNING: not removing hydrogen atom without neighbors\n",
      "[14:35:14] WARNING: not removing hydrogen atom without neighbors\n",
      "[14:35:14] WARNING: not removing hydrogen atom without neighbors\n",
      "[14:35:14] WARNING: not removing hydrogen atom without neighbors\n",
      "[14:35:14] WARNING: not removing hydrogen atom without neighbors\n",
      "[14:35:14] WARNING: not removing hydrogen atom without neighbors\n",
      "[14:35:14] WARNING: not removing hydrogen atom without neighbors\n",
      "[14:35:14] WARNING: not removing hydrogen atom without neighbors\n",
      "[14:35:14] WARNING: not removing hydrogen atom without neighbors\n",
      "[14:35:14] WARNING: not removing hydrogen atom without neighbors\n",
      "[14:35:14] WARNING: not removing hydrogen atom without neighbors\n",
      "[14:35:14] WARNING: not removing hydrogen atom without neighbors\n",
      "[14:35:14] WARNING: not removing hydrogen atom without neighbors\n",
      "[14:35:14] WARNING: not removing hydrogen atom without neighbors\n",
      "[14:35:14] WARNING: not removing hydrogen atom without neighbors\n",
      "[14:35:14] WARNING: not removing hydrogen atom without neighbors\n",
      "[14:35:14] WARNING: not removing hydrogen atom without neighbors\n",
      "[14:35:14] WARNING: not removing hydrogen atom without neighbors\n",
      "[14:35:14] WARNING: not removing hydrogen atom without neighbors\n",
      "[14:35:14] WARNING: not removing hydrogen atom without neighbors\n",
      "[14:35:14] WARNING: not removing hydrogen atom without neighbors\n",
      "[14:35:14] WARNING: not removing hydrogen atom without neighbors\n",
      "[14:35:14] WARNING: not removing hydrogen atom without neighbors\n",
      "[14:35:14] WARNING: not removing hydrogen atom without neighbors\n",
      "[14:35:14] WARNING: not removing hydrogen atom without neighbors\n",
      "[14:35:14] WARNING: not removing hydrogen atom without neighbors\n",
      "[14:35:14] WARNING: not removing hydrogen atom without neighbors\n",
      "[14:35:14] WARNING: not removing hydrogen atom without neighbors\n",
      "[14:35:14] WARNING: not removing hydrogen atom without neighbors\n",
      "[14:35:14] WARNING: not removing hydrogen atom without neighbors\n",
      "[14:35:14] WARNING: not removing hydrogen atom without neighbors\n",
      "[14:35:14] WARNING: not removing hydrogen atom without neighbors\n",
      "[14:35:14] WARNING: not removing hydrogen atom without neighbors\n",
      "[14:35:14] WARNING: not removing hydrogen atom without neighbors\n",
      "[14:35:14] WARNING: not removing hydrogen atom without neighbors\n",
      "[14:35:14] WARNING: not removing hydrogen atom without neighbors\n",
      "[14:35:14] WARNING: not removing hydrogen atom without neighbors\n",
      "[14:35:14] WARNING: not removing hydrogen atom without neighbors\n",
      "[14:35:14] WARNING: not removing hydrogen atom without neighbors\n",
      "[14:35:14] WARNING: not removing hydrogen atom without neighbors\n",
      "[14:35:14] WARNING: not removing hydrogen atom without neighbors\n",
      "[14:35:14] WARNING: not removing hydrogen atom without neighbors\n",
      "[14:35:14] WARNING: not removing hydrogen atom without neighbors\n",
      "[14:35:14] WARNING: not removing hydrogen atom without neighbors\n",
      "[14:35:14] WARNING: not removing hydrogen atom without neighbors\n",
      "[14:35:14] WARNING: not removing hydrogen atom without neighbors\n",
      "[14:35:14] WARNING: not removing hydrogen atom without neighbors\n",
      "[14:35:14] WARNING: not removing hydrogen atom without neighbors\n",
      "[14:35:14] WARNING: not removing hydrogen atom without neighbors\n"
     ]
    },
    {
     "name": "stdout",
     "output_type": "stream",
     "text": [
      "trained on 200. Similarity mean of the model and actual response of 0.12827311677862246, Similarity mean of the model and top 1 GraphGA of 0.09635949331903744, \n",
      " Similarity mean of the model and top 5 GraphGA of 0.10099918365331154, Similarity mean of the model and top 10 GraphGA of 0.10367696090956566\n"
     ]
    },
    {
     "name": "stderr",
     "output_type": "stream",
     "text": [
      "[14:35:14] WARNING: not removing hydrogen atom without neighbors\n",
      "[14:35:14] WARNING: not removing hydrogen atom without neighbors\n",
      "[14:35:14] WARNING: not removing hydrogen atom without neighbors\n",
      "[14:35:14] WARNING: not removing hydrogen atom without neighbors\n",
      "[14:35:14] WARNING: not removing hydrogen atom without neighbors\n",
      "[14:35:14] WARNING: not removing hydrogen atom without neighbors\n",
      "[14:35:14] WARNING: not removing hydrogen atom without neighbors\n",
      "[14:35:14] WARNING: not removing hydrogen atom without neighbors\n",
      "[14:35:14] WARNING: not removing hydrogen atom without neighbors\n",
      "[14:35:14] WARNING: not removing hydrogen atom without neighbors\n",
      "[14:35:14] WARNING: not removing hydrogen atom without neighbors\n",
      "[14:35:14] WARNING: not removing hydrogen atom without neighbors\n",
      "[14:35:14] WARNING: not removing hydrogen atom without neighbors\n",
      "[14:35:14] WARNING: not removing hydrogen atom without neighbors\n",
      "[14:35:14] WARNING: not removing hydrogen atom without neighbors\n",
      "[14:35:14] WARNING: not removing hydrogen atom without neighbors\n",
      "[14:35:14] WARNING: not removing hydrogen atom without neighbors\n",
      "[14:35:14] WARNING: not removing hydrogen atom without neighbors\n",
      "[14:35:14] WARNING: not removing hydrogen atom without neighbors\n",
      "[14:35:14] WARNING: not removing hydrogen atom without neighbors\n",
      "[14:35:14] WARNING: not removing hydrogen atom without neighbors\n",
      "[14:35:14] WARNING: not removing hydrogen atom without neighbors\n",
      "[14:35:14] WARNING: not removing hydrogen atom without neighbors\n",
      "[14:35:14] WARNING: not removing hydrogen atom without neighbors\n",
      "[14:35:14] WARNING: not removing hydrogen atom without neighbors\n",
      "[14:35:14] WARNING: not removing hydrogen atom without neighbors\n",
      "[14:35:14] WARNING: not removing hydrogen atom without neighbors\n",
      "[14:35:14] WARNING: not removing hydrogen atom without neighbors\n",
      "[14:35:14] WARNING: not removing hydrogen atom without neighbors\n",
      "[14:35:14] WARNING: not removing hydrogen atom without neighbors\n",
      "[14:35:14] WARNING: not removing hydrogen atom without neighbors\n",
      "[14:35:14] WARNING: not removing hydrogen atom without neighbors\n",
      "[14:35:14] WARNING: not removing hydrogen atom without neighbors\n",
      "[14:35:14] WARNING: not removing hydrogen atom without neighbors\n",
      "[14:35:14] WARNING: not removing hydrogen atom without neighbors\n",
      "[14:35:14] WARNING: not removing hydrogen atom without neighbors\n"
     ]
    },
    {
     "name": "stdout",
     "output_type": "stream",
     "text": [
      "trained on 100. Similarity mean of the model and actual response of 0.09970870606305736, Similarity mean of the model and top 1 GraphGA of 0.09753649148883031, \n",
      " Similarity mean of the model and top 5 GraphGA of 0.10159342951915169, Similarity mean of the model and top 10 GraphGA of 0.09571762676000828\n",
      "trained on 10. Similarity mean of the model and actual response of 0.09424888216863986, Similarity mean of the model and top 1 GraphGA of 0.09514923120479002, \n",
      " Similarity mean of the model and top 5 GraphGA of 0.09498125676649133, Similarity mean of the model and top 10 GraphGA of 0.09521304505460998\n"
     ]
    },
    {
     "name": "stderr",
     "output_type": "stream",
     "text": [
      "[14:35:14] WARNING: not removing hydrogen atom without neighbors\n",
      "[14:35:14] WARNING: not removing hydrogen atom without neighbors\n",
      "[14:35:14] WARNING: not removing hydrogen atom without neighbors\n",
      "[14:35:14] WARNING: not removing hydrogen atom without neighbors\n",
      "[14:35:14] WARNING: not removing hydrogen atom without neighbors\n",
      "[14:35:14] WARNING: not removing hydrogen atom without neighbors\n",
      "[14:35:14] WARNING: not removing hydrogen atom without neighbors\n",
      "[14:35:14] WARNING: not removing hydrogen atom without neighbors\n",
      "[14:35:14] WARNING: not removing hydrogen atom without neighbors\n"
     ]
    }
   ],
   "source": [
    "# mean on model response, \n",
    "# mean top 1 on GraphGA, \n",
    "# mean top 5 GraphGA, \n",
    "# mean top 10 GraphGA\n",
    "file_names = [\"out_1000_train_experiment.csv\",\"out_50_train_experiment.csv\",\"out_400_train_experiment.csv\",\n",
    "             \"out_200_train_experiment.csv\",\"out_100_train_experiment.csv\",\"out_10_train_experiment.csv\"]\n",
    "titles =[]\n",
    "Model_similarity =[]\n",
    "GraphGA_1st_similarity=[]\n",
    "GraphGA_5st_similarity =[] \n",
    "GraphGA_10st_similarity= []\n",
    "\n",
    "for file in file_names:\n",
    "    title = file.strip(\"out_\").split(\"_\")[0]\n",
    "    titles.append(title)\n",
    "    filepath = file\n",
    "    df = pd.read_csv(filepath)\n",
    "    mean_model = similarity_total(filepath, \"Real Response\", \"Model Response\")[\"Mean\"]\n",
    "    Model_similarity.append(mean_model)\n",
    "    mean_first = similarity_total(filepath, \"Real Response\", \"top_0\")[\"Mean\"]\n",
    "    GraphGA_1st_similarity.append(mean_first)\n",
    "    mean_fifth = similarity_total(filepath, \"Real Response\", \"top_4\")[\"Mean\"]\n",
    "    GraphGA_5st_similarity.append(mean_fifth)\n",
    "    mean_ten = similarity_total(filepath, \"Real Response\", \"top_9\")[\"Mean\"]\n",
    "    GraphGA_10st_similarity.append(mean_ten)\n",
    "    print(f'trained on {title}. Similarity mean of the model and actual response of {mean_model}, Similarity mean of the model and top 1 GraphGA of {mean_first}, \\n Similarity mean of the model and top 5 GraphGA of {mean_fifth}, Similarity mean of the model and top 10 GraphGA of {mean_ten}')\n",
    "    \n",
    "    "
   ]
  },
  {
   "cell_type": "code",
   "execution_count": 29,
   "id": "e8e0740b-2af1-4f2f-9094-781cb8e568cf",
   "metadata": {},
   "outputs": [
    {
     "data": {
      "text/plain": [
       "{'Mean ': 0.09119284461305036, 'Max': 0.3373493975903614, 'Min': 0.0}"
      ]
     },
     "execution_count": 29,
     "metadata": {},
     "output_type": "execute_result"
    }
   ],
   "source": [
    "file_path = '\n",
    ".csv'\n",
    "a = similarity_total(file_path)\n",
    "a"
   ]
  },
  {
   "cell_type": "code",
   "execution_count": 33,
   "id": "65dd219e-7e81-459c-951e-3214992ba792",
   "metadata": {},
   "outputs": [
    {
     "data": {
      "image/png": "[encoded data removed]",
      "text/plain": [
       "<Figure size 1000x600 with 1 Axes>"
      ]
     },
     "metadata": {},
     "output_type": "display_data"
    }
   ],
   "source": [
    "import matplotlib.pyplot as plt\n",
    "import pandas as pd\n",
    "\n",
    "titles =[]\n",
    "Model_similarity =[]\n",
    "GraphGA_1st_similarity=[]\n",
    "GraphGA_5st_similarity =[] \n",
    "GraphGA_10st_similarity= []\n",
    "\n",
    "# Example DataFrame with experiment results\n",
    "data = {\n",
    "    'Experiment': titles,\n",
    "    'Model_similarity': Model_similarity,\n",
    "    'GraphGA_1st_similarity': GraphGA_1st_similarity,\n",
    "    'GraphGA_5th_similarity': GraphGA_5st_similarity,\n",
    "    'GraphGA_10th_similarity': GraphGA_10st_similarity\n",
    "}\n",
    "\n",
    "df = pd.DataFrame(data)\n",
    "\n",
    "# Set up the figure and axes\n",
    "fig, ax = plt.subplots(figsize=(10, 6))\n",
    "\n",
    "# Width of each bar\n",
    "bar_width = 0.2\n",
    "\n",
    "# Position of each group of bars\n",
    "bar_positions = range(len(df['Experiment']))\n",
    "\n",
    "# Plot bars for each result\n",
    "ax.bar([pos - 1.5 * bar_width for pos in bar_positions], df['Model_similarity'], width=bar_width, label='Model_similarity')\n",
    "ax.bar([pos - 0.5 * bar_width for pos in bar_positions], df['GraphGA_1st_similarity'], width=bar_width, label='GraphGA_1st_similarity')\n",
    "ax.bar([pos + 0.5 * bar_width for pos in bar_positions], df['GraphGA_5th_similarity'], width=bar_width, label='GraphGA_5th_similarity')\n",
    "ax.bar([pos + 1.5 * bar_width for pos in bar_positions], df['GraphGA_10th_similarity'], width=bar_width, label='GraphGA_10th_similarity')\n",
    "\n",
    "# Set labels and title\n",
    "ax.set_xticks(bar_positions)\n",
    "ax.set_xticklabels(df['Experiment'])\n",
    "ax.set_xlabel('Experiments')\n",
    "ax.set_ylabel('Results')\n",
    "ax.set_title('Results of Experiments')\n",
    "\n",
    "# Add legend\n",
    "ax.legend()\n",
    "\n",
    "# Show the plot\n",
    "plt.show()"
   ]
  },
  {
   "cell_type": "code",
   "execution_count": null,
   "id": "f6922d22-96bc-4e31-82c3-88e9cfa88879",
   "metadata": {},
   "outputs": [],
   "source": []
  }
 ],
 "metadata": {
  "kernelspec": {
   "display_name": "Python 3 (ipykernel)",
   "language": "python",
   "name": "python3"
  },
  "language_info": {
   "codemirror_mode": {
    "name": "ipython",
    "version": 3
   },
   "file_extension": ".py",
   "mimetype": "text/x-python",
   "name": "python",
   "nbconvert_exporter": "python",
   "pygments_lexer": "ipython3",
   "version": "3.8.9"
  }
 },
 "nbformat": 4,
 "nbformat_minor": 5
}
