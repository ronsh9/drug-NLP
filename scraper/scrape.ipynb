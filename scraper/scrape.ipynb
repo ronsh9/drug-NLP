{
 "cells": [
  {
   "cell_type": "code",
   "execution_count": 201,
   "metadata": {},
   "outputs": [],
   "source": [
    "import requests\n",
    "from bs4 import BeautifulSoup\n",
    "import pandas as pd\n"
   ]
  },
  {
   "cell_type": "code",
   "execution_count": 217,
   "metadata": {},
   "outputs": [],
   "source": [
    "if False:\n",
    "    # Fetch Drugs @ FDA by the starting letter, find the HTML table element, and then save it to a csv\n",
    "    def get_table(letter):\n",
    "        url = f\"https://www.accessdata.fda.gov/scripts/cder/daf/index.cfm?event=browseByLetter.page&productLetter={letter}&ai=0\"\n",
    "        # url = f\"https://www.accessdata.fda.gov/scripts/cder/daf/index.cfm?event=browseByLetter.page&productLetter=A&ai=0\"\n",
    "        response = requests.get(url)\n",
    "\n",
    "        if response.status_code == 200:\n",
    "            webpage_content = response.text\n",
    "            soup = BeautifulSoup(webpage_content, 'html.parser')\n",
    "\n",
    "            # Find the table element\n",
    "            table = soup.find('table')\n",
    "\n",
    "            # Extract table data into a DataFrame\n",
    "            table_data = []\n",
    "            for row in table.find_all('tr'):\n",
    "                row_data = [cell.text.strip() for cell in row.find_all('td')]\n",
    "                table_data.append(row_data)\n",
    "            return table_data\n",
    "        else:\n",
    "            print(\"Failed to fetch the webpage\")\n",
    "        assert False\n",
    "    letters = \"ABCDEFGHIJKLMNOPQRSTUVWXYZ\"\n",
    "    table_data =[]\n",
    "    for i in letters:\n",
    "        print(i)\n",
    "        table_data.extend(get_table(i))\n",
    "    df_raw = pd.DataFrame(table_data)\n",
    "    csv_file = \"data/fda-drugs-raw.csv\"\n",
    "    df_raw.to_csv(csv_file, index=False)"
   ]
  },
  {
   "cell_type": "code",
   "execution_count": 222,
   "metadata": {},
   "outputs": [],
   "source": [
    "# load the csv we saved from above\n",
    "df2 = pd.read_csv(\"data/fda-drugs-raw.csv\")\n",
    "table_data = df2.values"
   ]
  },
  {
   "cell_type": "code",
   "execution_count": 243,
   "metadata": {},
   "outputs": [
    {
     "data": {
      "text/plain": [
       "array([[nan],\n",
       "       [nan],\n",
       "       ['A-HYDROCORT\\n\\nA-HYDROCORT (HYDROCORTISONE SODIUM SUCCINATE) | ANDA  #040666 | INJECTABLE;INJECTION  | HOSPIRA\\r\\n\\t\\nA-HYDROCORT (HYDROCORTISONE SODIUM SUCCINATE) | ANDA  #085928 | INJECTABLE;INJECTION  | ABBOTT\\r\\n\\t\\nA-HYDROCORT (HYDROCORTISONE SODIUM SUCCINATE) | ANDA  #085929 | INJECTABLE;INJECTION  | HOSPIRA\\r\\n\\t\\nA-HYDROCORT (HYDROCORTISONE SODIUM SUCCINATE) | ANDA  #085930 | INJECTABLE;INJECTION  | HOSPIRA\\r\\n\\t\\nA-HYDROCORT (HYDROCORTISONE SODIUM SUCCINATE) | ANDA  #085931 | INJECTABLE;INJECTION  | HOSPIRA\\r\\n\\t\\nA-HYDROCORT (HYDROCORTISONE SODIUM SUCCINATE) | ANDA  #085932 | INJECTABLE;INJECTION  | HOSPIRA\\r\\n\\t\\nA-HYDROCORT (HYDROCORTISONE SODIUM SUCCINATE) | ANDA  #089577 | INJECTABLE;INJECTION  | ABBOTT\\r\\n\\t\\nA-HYDROCORT (HYDROCORTISONE SODIUM SUCCINATE) | ANDA  #089578 | INJECTABLE;INJECTION  | ABBOTT\\r\\n\\t\\nA-HYDROCORT (HYDROCORTISONE SODIUM SUCCINATE) | ANDA  #089579 | INJECTABLE;INJECTION  | ABBOTT\\r\\n\\t\\nA-HYDROCORT (HYDROCORTISONE SODIUM SUCCINATE) | ANDA  #089580 | INJECTABLE;INJECTION  | ABBOTT']],\n",
       "      dtype=object)"
      ]
     },
     "execution_count": 243,
     "metadata": {},
     "output_type": "execute_result"
    }
   ],
   "source": [
    "table_data[:3]"
   ]
  },
  {
   "cell_type": "code",
   "execution_count": 244,
   "metadata": {},
   "outputs": [],
   "source": [
    "def process_raw_s(row_s):\n",
    "    \"\"\"\n",
    "    Given a giant table entry from the raw data, parse it out into drug name and active\n",
    "\n",
    "    The table entry roughly has the format:\n",
    "    DRUG_NAME (newlines) DRUG_NAME (ACTIVE INGREDS.) | DETAILS.... (newlines) DRUG_NAME (ACTIVE INGREDS)...\n",
    "\n",
    "    Where the same drug often has many entries I think for the different application methods and different companies that produce it (not sure?)\n",
    "\n",
    "    Returns drug name, and frozenset of the ingredients\n",
    "    \"\"\"\n",
    "    lines = row_s.split('\\n')\n",
    "    lines = list(map(lambda s : s.strip(), lines))\n",
    "    lines = [s for s in lines if len(s)>0]\n",
    "    drug_name = lines[0]\n",
    "    details = lines[1:]\n",
    "    # print(drug_name)\n",
    "    import re\n",
    "    matches = [re.findall(r'\\((.*?)\\)', s.replace(drug_name, '', 1).split('|')[0]) for s in details] # take the part before the first '|', then remove the drug name, and then extract the part between parens to get active ingredient(s)\n",
    "    assert all([len(m)==1 for m in matches])\n",
    "    flattened_matches = [m[0] for m in matches]\n",
    "    split_matches = [s.split(';') for s in flattened_matches]\n",
    "    set_matches = [frozenset([s.strip() for s in m]) for m in split_matches] # this contains the active ingredients for each row for this drug. there can be variants depending on application method, the company that produces it, etc. \n",
    "    # print(set_matches)\n",
    "    active_ingredients = set_matches[0] # for now, we just take the first one\n",
    "    \n",
    "    # assert all([m==active_ingredients for m in set_matches])  #TODO: bring back this assert - maybe group by company?\n",
    "    # print(active_ingredients)\n",
    "    return drug_name, active_ingredients\n"
   ]
  },
  {
   "cell_type": "code",
   "execution_count": 224,
   "metadata": {},
   "outputs": [
    {
     "name": "stdout",
     "output_type": "stream",
     "text": [
      "('A-HYDROCORT', frozenset({'HYDROCORTISONE SODIUM SUCCINATE'}))\n"
     ]
    }
   ],
   "source": [
    "print(process_raw_s(table_data[2][0]))"
   ]
  },
  {
   "cell_type": "code",
   "execution_count": 225,
   "metadata": {},
   "outputs": [],
   "source": [
    "drugs = []\n",
    "for row in table_data:\n",
    "  assert len(row) == 1\n",
    "  s = row[0]\n",
    "  if type(s) is float or len(s) == 0:\n",
    "    continue\n",
    "  drugs.append(process_raw_s(s))\n"
   ]
  },
  {
   "cell_type": "code",
   "execution_count": 246,
   "metadata": {},
   "outputs": [
    {
     "data": {
      "text/plain": [
       "[('A-HYDROCORT', frozenset({'HYDROCORTISONE SODIUM SUCCINATE'})),\n",
       " ('A-METHAPRED', frozenset({'METHYLPREDNISOLONE SODIUM SUCCINATE'})),\n",
       " ('A-POXIDE', frozenset({'CHLORDIAZEPOXIDE HYDROCHLORIDE'})),\n",
       " ('A.P.L.', frozenset({'GONADOTROPIN, CHORIONIC'})),\n",
       " ('A/T/S', frozenset({'ERYTHROMYCIN'})),\n",
       " ('ABACAVIR AND LAMIVUDINE', frozenset({'ABACAVIR', 'LAMIVUDINE'}))]"
      ]
     },
     "execution_count": 246,
     "metadata": {},
     "output_type": "execute_result"
    }
   ],
   "source": [
    "drugs[:6]"
   ]
  },
  {
   "cell_type": "code",
   "execution_count": 229,
   "metadata": {},
   "outputs": [],
   "source": [
    "def get_SMILES_from_compound_name(compound_name):\n",
    "    # PubChem PUG-REST URL for compound name search\n",
    "    pubchem_url = f\"https://pubchem.ncbi.nlm.nih.gov/rest/pug/compound/name/{compound_name}/JSON\"\n",
    "\n",
    "    # Send an HTTP GET request to the PubChem API\n",
    "    response = requests.get(pubchem_url)\n",
    "\n",
    "    # Check if the request was successful (status code 200)\n",
    "    if response.status_code == 200:\n",
    "        data = response.json()\n",
    "        # print(data)\n",
    "        if 'PC_Compounds' in data and data['PC_Compounds']:\n",
    "            props = data['PC_Compounds'][0]['props']\n",
    "            for i in props:\n",
    "                if i['urn']['label']  == 'SMILES' and i['urn']['name'] == 'Canonical':\n",
    "                  return i['value']['sval']\n",
    "\n",
    "            # smiles_string = data['PC_Compounds'][0]['props'][17]['value']['sval']\n",
    "\n",
    "\n",
    "            # smiles_string = data['PC_Compounds'][0]['props'][17]['value']['sval']\n",
    "            # cid = data['PC_Compounds'][0]['id']['cid']\n",
    "            # print(f\"Compound Name: {compound_name}\")\n",
    "            # print(f\"PubChem CID: {cid}\")\n",
    "            # print(f\"SMILES String: {smiles_string}\")\n",
    "        else:\n",
    "            print(f\"No information found for '{compound_name}' in PubChem.\")\n",
    "    else:\n",
    "        print(f\"Error: Unable to retrieve data for '{compound_name}' from PubChem.\")\n",
    "    return None"
   ]
  },
  {
   "cell_type": "code",
   "execution_count": 239,
   "metadata": {},
   "outputs": [],
   "source": [
    "# compound_name = \"HYDROCORTISONE SODIUM SUCCINATE\"  \n",
    "# compound_name = \"GONADOTROPIN, CHORIONIC\"\n",
    "# compound_name = \"HUMAN CHORIONIC GONADOTROPIN\"\n",
    "# print(get_SMILES_from_compound_name(compound_name))"
   ]
  },
  {
   "cell_type": "code",
   "execution_count": 231,
   "metadata": {},
   "outputs": [
    {
     "name": "stdout",
     "output_type": "stream",
     "text": [
      "Error: Unable to retrieve data for 'GONADOTROPIN, CHORIONIC' from PubChem.\n"
     ]
    }
   ],
   "source": [
    "# this will take a while.... searching through for every active ingredient. it will report which ones it fails on\n",
    "drug_smiles = []\n",
    "for drug_name, active_ingredients in drugs[:5] + drugs[-5:]:\n",
    "    # print(drug_name, active_ingredients)\n",
    "    SMILES_strs = []\n",
    "    for i in active_ingredients:\n",
    "        SMILES_strs.extend([i, get_SMILES_from_compound_name(i)])\n",
    "    drug_smiles.append((drug_name, *SMILES_strs))\n",
    "\n"
   ]
  },
  {
   "cell_type": "code",
   "execution_count": 232,
   "metadata": {},
   "outputs": [
    {
     "data": {
      "text/plain": [
       "[('A-HYDROCORT',\n",
       "  'HYDROCORTISONE SODIUM SUCCINATE',\n",
       "  'CC12CCC(=O)C=C1CCC3C2C(CC4(C3CCC4(C(=O)COC(=O)CCC(=O)[O-])O)C)O.[Na+]'),\n",
       " ('A-METHAPRED',\n",
       "  'METHYLPREDNISOLONE SODIUM SUCCINATE',\n",
       "  'CC1CC2C3CCC(C3(CC(C2C4(C1=CC(=O)C=C4)C)O)C)(C(=O)COC(=O)CCC(=O)[O-])O.[Na+]'),\n",
       " ('A-POXIDE',\n",
       "  'CHLORDIAZEPOXIDE HYDROCHLORIDE',\n",
       "  'CN=C1CN(C(=C2C=C(C=CC2=N1)Cl)C3=CC=CC=C3)O.Cl'),\n",
       " ('A.P.L.', 'GONADOTROPIN, CHORIONIC', None),\n",
       " ('A/T/S',\n",
       "  'ERYTHROMYCIN',\n",
       "  'CCC1C(C(C(C(=O)C(CC(C(C(C(C(C(=O)O1)C)OC2CC(C(C(O2)C)O)(C)OC)C)OC3C(C(CC(O3)C)N(C)C)O)(C)O)C)C)O)(C)O')]"
      ]
     },
     "execution_count": 232,
     "metadata": {},
     "output_type": "execute_result"
    }
   ],
   "source": [
    "drug_smiles[:5]"
   ]
  },
  {
   "cell_type": "code",
   "execution_count": 240,
   "metadata": {},
   "outputs": [
    {
     "name": "stdout",
     "output_type": "stream",
     "text": [
      "['Drug Name', 'Active Ingredient 0', 'SMILES 0', 'Active Ingredient 1', 'SMILES 1']\n"
     ]
    },
    {
     "data": {
      "text/html": [
       "<div>\n",
       "<style scoped>\n",
       "    .dataframe tbody tr th:only-of-type {\n",
       "        vertical-align: middle;\n",
       "    }\n",
       "\n",
       "    .dataframe tbody tr th {\n",
       "        vertical-align: top;\n",
       "    }\n",
       "\n",
       "    .dataframe thead th {\n",
       "        text-align: right;\n",
       "    }\n",
       "</style>\n",
       "<table border=\"1\" class=\"dataframe\">\n",
       "  <thead>\n",
       "    <tr style=\"text-align: right;\">\n",
       "      <th></th>\n",
       "      <th>Drug Name</th>\n",
       "      <th>Active Ingredient 0</th>\n",
       "      <th>SMILES 0</th>\n",
       "      <th>Active Ingredient 1</th>\n",
       "      <th>SMILES 1</th>\n",
       "    </tr>\n",
       "  </thead>\n",
       "  <tbody>\n",
       "    <tr>\n",
       "      <th>5</th>\n",
       "      <td>ZYRTEC ALLERGY</td>\n",
       "      <td>CETIRIZINE HYDROCHLORIDE</td>\n",
       "      <td>C1CN(CCN1CCOCC(=O)O)C(C2=CC=CC=C2)C3=CC=C(C=C3...</td>\n",
       "      <td>None</td>\n",
       "      <td>None</td>\n",
       "    </tr>\n",
       "    <tr>\n",
       "      <th>6</th>\n",
       "      <td>ZYRTEC HIVES RELIEF</td>\n",
       "      <td>CETIRIZINE HYDROCHLORIDE</td>\n",
       "      <td>C1CN(CCN1CCOCC(=O)O)C(C2=CC=CC=C2)C3=CC=C(C=C3...</td>\n",
       "      <td>None</td>\n",
       "      <td>None</td>\n",
       "    </tr>\n",
       "    <tr>\n",
       "      <th>7</th>\n",
       "      <td>ZYRTEC-D 12 HOUR</td>\n",
       "      <td>PSEUDOEPHEDRINE HYDROCHLORIDE</td>\n",
       "      <td>CC(C(C1=CC=CC=C1)O)NC.Cl</td>\n",
       "      <td>CETIRIZINE HYDROCHLORIDE</td>\n",
       "      <td>C1CN(CCN1CCOCC(=O)O)C(C2=CC=CC=C2)C3=CC=C(C=C3...</td>\n",
       "    </tr>\n",
       "    <tr>\n",
       "      <th>8</th>\n",
       "      <td>ZYTIGA</td>\n",
       "      <td>ABIRATERONE ACETATE</td>\n",
       "      <td>CC(=O)OC1CCC2(C3CCC4(C(C3CC=C2C1)CC=C4C5=CN=CC...</td>\n",
       "      <td>None</td>\n",
       "      <td>None</td>\n",
       "    </tr>\n",
       "    <tr>\n",
       "      <th>9</th>\n",
       "      <td>ZYVOX</td>\n",
       "      <td>LINEZOLID</td>\n",
       "      <td>CC(=O)NCC1CN(C(=O)O1)C2=CC(=C(C=C2)N3CCOCC3)F</td>\n",
       "      <td>None</td>\n",
       "      <td>None</td>\n",
       "    </tr>\n",
       "  </tbody>\n",
       "</table>\n",
       "</div>"
      ],
      "text/plain": [
       "             Drug Name            Active Ingredient 0  \\\n",
       "5       ZYRTEC ALLERGY       CETIRIZINE HYDROCHLORIDE   \n",
       "6  ZYRTEC HIVES RELIEF       CETIRIZINE HYDROCHLORIDE   \n",
       "7     ZYRTEC-D 12 HOUR  PSEUDOEPHEDRINE HYDROCHLORIDE   \n",
       "8               ZYTIGA            ABIRATERONE ACETATE   \n",
       "9                ZYVOX                      LINEZOLID   \n",
       "\n",
       "                                            SMILES 0  \\\n",
       "5  C1CN(CCN1CCOCC(=O)O)C(C2=CC=CC=C2)C3=CC=C(C=C3...   \n",
       "6  C1CN(CCN1CCOCC(=O)O)C(C2=CC=CC=C2)C3=CC=C(C=C3...   \n",
       "7                           CC(C(C1=CC=CC=C1)O)NC.Cl   \n",
       "8  CC(=O)OC1CCC2(C3CCC4(C(C3CC=C2C1)CC=C4C5=CN=CC...   \n",
       "9      CC(=O)NCC1CN(C(=O)O1)C2=CC(=C(C=C2)N3CCOCC3)F   \n",
       "\n",
       "        Active Ingredient 1                                           SMILES 1  \n",
       "5                      None                                               None  \n",
       "6                      None                                               None  \n",
       "7  CETIRIZINE HYDROCHLORIDE  C1CN(CCN1CCOCC(=O)O)C(C2=CC=CC=C2)C3=CC=C(C=C3...  \n",
       "8                      None                                               None  \n",
       "9                      None                                               None  "
      ]
     },
     "execution_count": 240,
     "metadata": {},
     "output_type": "execute_result"
    }
   ],
   "source": [
    "df = pd.DataFrame(drug_smiles)\n",
    "columns = ['Drug Name']\n",
    "for i in range((len(df.columns)-1)//2): \n",
    "    columns.extend([f'Active Ingredient {i}', f'SMILES {i}'])\n",
    "print(columns)\n",
    "df.columns = columns\n",
    "df.tail()"
   ]
  },
  {
   "cell_type": "code",
   "execution_count": 242,
   "metadata": {},
   "outputs": [],
   "source": [
    "df.to_csv(\"data/drug-actives.csv\")"
   ]
  }
 ],
 "metadata": {
  "kernelspec": {
   "display_name": "ML",
   "language": "python",
   "name": "python3"
  },
  "language_info": {
   "codemirror_mode": {
    "name": "ipython",
    "version": 3
   },
   "file_extension": ".py",
   "mimetype": "text/x-python",
   "name": "python",
   "nbconvert_exporter": "python",
   "pygments_lexer": "ipython3",
   "version": "3.11.5"
  }
 },
 "nbformat": 4,
 "nbformat_minor": 2
}
