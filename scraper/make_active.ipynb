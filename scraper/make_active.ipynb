{
 "cells": [
  {
   "cell_type": "code",
   "execution_count": 7,
   "metadata": {},
   "outputs": [],
   "source": [
    "import pandas as pd\n",
    "import yaml"
   ]
  },
  {
   "cell_type": "code",
   "execution_count": 5,
   "metadata": {},
   "outputs": [],
   "source": [
    "disease_name = \"Insomnia\"\n",
    "\n",
    "disease_description = r\"\"\"\n",
    "Insomnia, also known as sleeplessness, is a sleep disorder in which people have trouble sleeping. We want to target the positive modulator sites of gamma-Aminobutyric acid type A (GABA_A) receptors to treat insomnia, which enhances GABAergic inhibition of neurotransmission in the central nervous system. GABA_A belongs to the superfamily of “cys-cys loop” ligand-gated ion channels that in vertebrates include the nicotinic acetylcholine receptors (nAChR), the 5-hydroxytryptamine type 3 (5-HT3) receptors, the zinc-activated ion channel (ZAC) and the glycine receptors.\n",
    "\"\"\"\n",
    "\n",
    "drug_list = [\n",
    "    r\"O=C(O[C@H]3c1nccnc1C(=O)N3c2ncc(Cl)cc2)N4CCN(C)CC4\",\n",
    "    r\"CN(C)C(=O)Cc1c(nc2ccc(C)cn12)c3ccc(C)cc3\",\n",
    "    r\"O=C(OC3c1nccnc1C(=O)N3c2ncc(Cl)cc2)N4CCN(C)CC4\",\n",
    "    r\"CCN(C(C)=O)c1cccc(-c2ccnc3c(C#N)cnn23)c1\",\n",
    "    r\"ClC1=CC=CC=C1C2=NCC3=NN=C(C)N3C4=C2C=C(Br)S4\",\n",
    "    r\"FC1=CC=CC=C1C2=NC(C(N(CCC#N)C3=C2C=C(C=C3)Cl)=O)O\",\n",
    "    r\"ClC1=CC=CC=C1C2=NCC3=CN=C(C)N3C4=C2C=C(C=C4)Cl\",\n",
    "    r\"O=C(O)C1N=C(c2ccccc2)c2cc(Cl)ccc2NC1=O\",\n",
    "    r\"FC1=CC=CC=C1C2=NC(C(N(CCO)C3=C2C=C(C=C3)Cl)=O)O\",\n",
    "    r\"ClC1=CC2=C(C=C1)N3C=NN=C3CN=C2C4=CC=CC=C4\",\n",
    "    r\"ClC1=CC=CC=C1C2=NCC3=NN=C(C)N3C4=C2C=C(CC)S4\",\n",
    "    r\"CN1C(=O)CN=C(c2ccccc2F)c2cc([N+](=O)[O-])ccc21\",\n",
    "    r\"FC1=CC=CC=C1C2=NCC(N(CCN(CC)CC)C3=C2C=C(C=C3)Cl)=O\",\n",
    "    r\"FC1=CC=CC=C1C2=NCC(N(CC3CC3)C4=C2C=C(C=C4)Cl)=O\",\n",
    "    r\"Fc1ccccc1C42OCCN2CC(=O)Nc3c4cc(Br)cc3\",\n",
    "    r\"[O-][N+](=O)c1cc4c(cc1)N/2C(=O)C(\\N=C\\2C/N=C4/c3ccccc3Cl)=C\\N5CCN(C)CC5\",\n",
    "    r\"ClC1=CC=CC=C1C2=NC(C(N(C)C3=C2C=C(C=C3)Cl)=O)O\",\n",
    "    r\"ClC1=CC=C2C(C(C3=CC=CC=C3F)=NCC4=CN=C(C)N42)=C1\",\n",
    "    r\"[O-][N+](C1=CC2=C(C=C1)N(C)C(CN=C2C3=CC=CC=C3)=O)=O\",\n",
    "    r\"[O-][N+](C1=CC2=C(C=C1)NC(CN=C2C3=CC=CC=C3)=O)=O\",\n",
    "    r\"FC(F)(F)CN1C(=S)C/N=C(\\c2cc(Cl)ccc12)c3ccccc3F\",\n",
    "    r\"Cc1nnc2n1-c1ccc(Cl)cc1C(c1ccccc1Cl)=NC2\",\n",
    "    r\"CN1C2=C(C(C3=CC=CC=C3)=NC(O)C1=O)C=C(Cl)C=C2\"\n",
    "]\n",
    "\n",
    "information_source = [\n",
    "    r\"https://en.wikipedia.org/wiki/Zaleplon\",\n",
    "    r\"https://www.ncbi.nlm.nih.gov/pmc/articles/PMC2648504/\"\n",
    "]\n",
    "\n",
    "data1 = {\n",
    "    \"disease_name\": disease_name,\n",
    "    \"disease_description\": disease_description,\n",
    "    \"drug_list\": drug_list,\n",
    "    \"information_source\": information_source\n",
    "}"
   ]
  },
  {
   "cell_type": "code",
   "execution_count": 8,
   "metadata": {},
   "outputs": [],
   "source": [
    "data = {\n",
    "    \"01\": data1\n",
    "}\n",
    "\n",
    "\n",
    "with open('eval_cases.yaml', 'w') as yaml_file:\n",
    "    yaml.dump(data, yaml_file, default_flow_style=False, sort_keys=False)"
   ]
  },
  {
   "cell_type": "code",
   "execution_count": null,
   "metadata": {},
   "outputs": [],
   "source": []
  }
 ],
 "metadata": {
  "kernelspec": {
   "display_name": "rdkit",
   "language": "python",
   "name": "python3"
  },
  "language_info": {
   "codemirror_mode": {
    "name": "ipython",
    "version": 3
   },
   "file_extension": ".py",
   "mimetype": "text/x-python",
   "name": "python",
   "nbconvert_exporter": "python",
   "pygments_lexer": "ipython3",
   "version": "3.8.16"
  }
 },
 "nbformat": 4,
 "nbformat_minor": 2
}
