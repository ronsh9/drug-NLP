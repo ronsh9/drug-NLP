{
 "cells": [
  {
   "cell_type": "code",
   "execution_count": 1,
   "id": "ed64bb67-9c8d-4271-9aab-81dce9b24ca3",
   "metadata": {},
   "outputs": [
    {
     "data": {
      "text/plain": [
       "'/Users/danaru'"
      ]
     },
     "execution_count": 1,
     "metadata": {},
     "output_type": "execute_result"
    }
   ],
   "source": [
    "import pandas as pd\n",
    "import os\n",
    "import json\n",
    "\n",
    "os.getcwd()"
   ]
  },
  {
   "cell_type": "code",
   "execution_count": 3,
   "id": "167cab72-eae2-42c6-952c-a17598898c02",
   "metadata": {},
   "outputs": [],
   "source": [
    "file_name = \"subsampled_drug_info.json\"\n",
    "# Open and read the JSON file\n",
    "with open(file_name, 'r') as file:\n",
    "    data = json.load(file)\n",
    "\n",
    "df = pd.DataFrame(data)"
   ]
  },
  {
   "cell_type": "code",
   "execution_count": 20,
   "id": "52bc3710-40b5-4525-9396-b68bf36e19d7",
   "metadata": {},
   "outputs": [],
   "source": [
    "drugs = df.columns\n",
    "rows = df.index\n",
    "disease_prompts = dict()\n",
    "\n",
    "\n",
    "for drug in drugs:\n",
    "    diseases = df[drug]['Disease Information']\n",
    "    # print(diseases)\n",
    "    receptors = df[drug]['Additional Information']['targets']\n",
    "    rec_data = dict()\n",
    "    k = list(df[drug]['Active Ingredients'].keys())\n",
    "    smile = df[drug]['Active Ingredients'][k[0]]\n",
    "    #collect all receptors per drug\n",
    "    for r in receptors:\n",
    "        rec_data[r['Label']] = {'Amino acid sequence' : r['Detailed Info']['Amino acid sequence'], \n",
    "                                'General Function': r['Detailed Info']['General Function'],\n",
    "                                'Specific Function' : r['Detailed Info']['Specific Function']}                   \n",
    "    for dis in diseases:\n",
    "        if diseases[dis]==None:\n",
    "            info =''\n",
    "        else:\n",
    "            info = ', is '+ diseases[dis]\n",
    "        other_diseases = [disease for disease in diseases if disease != dis]\n",
    "        # Choose the first 5 diseases from the list of other diseases\n",
    "        selected_diseases = other_diseases[:5]\n",
    "        disease_prompts[dis] = {'info': info, 'receptors': rec_data, 'drug_smile' : smile, 'similar_conditions': selected_diseases}\n",
    "        "
   ]
  },
  {
   "cell_type": "code",
   "execution_count": 55,
   "id": "269423fc-05b1-480b-9ba7-c39b5d4793d9",
   "metadata": {},
   "outputs": [],
   "source": [
    "def num_tokens_from_string(string: str) -> int:\n",
    "    \"\"\"Returns the number of tokens in a text string.\"\"\"\n",
    "    encoding = tiktoken.encoding_for_model(\"gpt-3.5-turbo\")\n",
    "    num_tokens = len(encoding.encode(string))\n",
    "    return num_tokens"
   ]
  },
  {
   "cell_type": "code",
   "execution_count": 31,
   "id": "9e138764-59b2-4bf2-ba8f-aa68b96d4187",
   "metadata": {},
   "outputs": [],
   "source": [
    "templates_prompts_w_smiles = dict()\n",
    "for d in disease_prompts:\n",
    "    receptors = []\n",
    "    started =False\n",
    "    #going over the receptors per disease:\n",
    "    for r in disease_prompts[d]['receptors']:\n",
    "        started = True\n",
    "        gf=disease_prompts[d]['receptors'][r]['General Function']\n",
    "        sf = disease_prompts[d]['receptors'][r]['Specific Function']\n",
    "        ac = disease_prompts[d]['receptors'][r]['Amino acid sequence']\n",
    "        ac = '\\n'.join(ac.split('\\n')[1:]) #remove first line with not sequence stuff\n",
    "        if started:\n",
    "            receptors.append('. \\n')\n",
    "        receptor = f'Receptor {r}'\n",
    "        receptors.append(receptor)\n",
    "        if gf is not None and gf != '':\n",
    "            str = f'Has general function: {gf},'\n",
    "            receptors.append(str)\n",
    "        if sf is not None and sf != '':\n",
    "            str = f'Has specific function function: {sf},'\n",
    "            receptors.append(str)\n",
    "        if ac is not None and ac != '':\n",
    "            str = f'Its amino acid sequence is: {ac}.'\n",
    "            receptors.append(str)\n",
    "    allreceptors = ' '.join(receptors)\n",
    "    i=disease_prompts[d]['info']\n",
    "    \n",
    "    similar_conditions = disease_prompts[d]['similar_conditions']\n",
    "    if similar_conditions != None and similar_conditions != '' and similar_conditions != []:\n",
    "        similar_conditions = ', '.join(similar_conditions)\n",
    "        similar_disease = f'Some associated conditions are {similar_conditions}.'\n",
    "        \n",
    "    prompt = f'You are an expert in drug discovery, please generate a novel binder molecule for the following disease. Respond with a SMILE string of a hypothetical possible binder molecule. The disease is {d} {i}. {similar_disease} It has the following receptors: {allreceptors}'\n",
    "    smile = disease_prompts[d]['drug_smile']\n",
    "    num_tokens = num_tokens_from_string(prompt+smile)\n",
    "    while num_tokens>3950:\n",
    "        last_receptor_index = prompt.rfind(\"Receptor\")\n",
    "        prompt = prompt[:last_receptor_index]\n",
    "        num_tokens = num_tokens_from_string(prompt+smile)\n",
    "\n",
    "    templates_prompts_w_smiles[d] = {'prompt':prompt, 'smile_output': smile}\n",
    "            "
   ]
  },
  {
   "cell_type": "code",
   "execution_count": 60,
   "id": "9b1f835a-dd86-4a99-9661-e24645194b6c",
   "metadata": {},
   "outputs": [],
   "source": [
    "#Example\n",
    "a = templates_prompts_w_smiles['Muscle Spasms']['prompt']\n"
   ]
  },
  {
   "cell_type": "code",
   "execution_count": 36,
   "id": "3521a960-b4f8-451c-a5db-0f0d2def9e04",
   "metadata": {},
   "outputs": [],
   "source": [
    "import tiktoken"
   ]
  },
  {
   "cell_type": "code",
   "execution_count": 37,
   "id": "5cf65ae7-77c2-4304-8cc1-05394ac98052",
   "metadata": {},
   "outputs": [
    {
     "name": "stderr",
     "output_type": "stream",
     "text": [
      "/Users/danaru/Library/Python/3.8/lib/python/site-packages/urllib3/__init__.py:34: NotOpenSSLWarning: urllib3 v2 only supports OpenSSL 1.1.1+, currently the 'ssl' module is compiled with 'LibreSSL 2.8.3'. See: https://github.com/urllib3/urllib3/issues/3020\n",
      "  warnings.warn(\n"
     ]
    }
   ],
   "source": [
    "encoding = tiktoken.encoding_for_model(\"gpt-3.5-turbo\")"
   ]
  },
  {
   "cell_type": "code",
   "execution_count": 38,
   "id": "b13c80c9-e71f-445a-a91d-e797731053b6",
   "metadata": {},
   "outputs": [],
   "source": [
    "def num_tokens_from_string(string: str, encoding_name: str) -> int:\n",
    "    \"\"\"Returns the number of tokens in a text string.\"\"\"\n",
    "    encoding = tiktoken.encoding_for_model(\"gpt-3.5-turbo\")\n",
    "    num_tokens = len(encoding.encode(string))\n",
    "    return num_tokens"
   ]
  },
  {
   "cell_type": "code",
   "execution_count": 53,
   "id": "cf447e47-6aa3-4f69-bad4-dcd6a9de5632",
   "metadata": {},
   "outputs": [
    {
     "name": "stdout",
     "output_type": "stream",
     "text": [
      "3065\n",
      "3162\n",
      "3109\n",
      "3039\n",
      "3179\n",
      "3018\n",
      "3101\n",
      "3036\n",
      "3117\n",
      "3170\n",
      "3232\n",
      "3235\n",
      "3124\n",
      "3227\n",
      "3119\n",
      "3348\n",
      "3267\n",
      "3188\n",
      "3120\n",
      "3120\n",
      "3299\n"
     ]
    }
   ],
   "source": [
    "for i in templates_prompts_w_smiles.keys():\n",
    "    a = templates_prompts_w_smiles[i]['prompt']\n",
    "    num = num_tokens_from_string(a, \"cl100k_base\")\n",
    "    if num>3000:\n",
    "        \n",
    "        print(num)"
   ]
  },
  {
   "cell_type": "code",
   "execution_count": 45,
   "id": "ef30741c-4313-42e8-abd8-984575e78a9c",
   "metadata": {},
   "outputs": [
    {
     "data": {
      "text/plain": [
       "dict_keys(['Anginal Pain', 'Cardiovascular Complications', 'Cardiovascular Disease', 'Coronary Artery Disease', 'Coronary artery thrombosis', 'Dysbetalipoproteinemia', 'Fredrickson Type III lipidemia', 'Heterozygous Familial Hypercholesterolemia', 'High Cholesterol', 'Homozygous Familial Hypercholesterolaemia', 'Hospitalizations', 'Hypertension, Essential Hypertension', 'Hypertriglyceridemias', 'Mixed Dyslipidemias', 'Mixed Hyperlipidemia', 'Myocardial Infarction', 'Non-familial hypercholesterolemia', 'Nonfatal Myocardial Infarction', 'Postoperative Thromboembolism', 'Primary Hypercholesterolemia', 'Stroke', 'Thrombosis', 'Transient Ischemic Attack', 'Elevation of serum triglyceride levels', 'Heterozygous familial hyperlipidemia', 'Non-familial hyperlipidemia', 'Primary Hyperlipidemia', 'Revascularization procedures', 'Chronic Pain', 'Severe Pain', 'Actinomycosis', 'Acute Rheumatic Fever', 'Anthrax', 'Bloodstream Infections', 'Clostridium Botulinum Toxin Adverse Reaction', 'Diphtheria', 'Empyema', 'Endocarditis', 'Endocarditis caused by Erysipelothrix infections', 'Fusospirochetosis', 'Gas Gangrene', 'Gonococcal infections', 'Gram-Negative Bacterial Infections', 'Haverhill fever', 'Listeria infection', 'Meningitis', 'Meningococcal Meningitis', 'Pasteurella infections', 'Pericarditis', 'Pneumonia', 'Syphilis', 'Tetanus', 'Rat bite fever', 'Alcohol Dependency', 'Anorexia Nervosa', 'Bulimia Nervosa', 'Cataplexy', 'Depression', 'Major Depressive Disorder', 'Major depressive disorder, recurrent episode', 'Myoclonus', 'Obesity', 'Obsessive Compulsive Disorder', 'Panic Disorder With Agoraphobia', 'Panic disorder without agoraphobia', 'Premature Ejaculation', 'Premenstrual Dysphoric Disorder', 'Attention Deficit Hyperactivity Disorder', 'Narcolepsy', 'Acute Gouty Arthritis', 'Acute Musculoskeletal Pain', 'Allergic Reaction', 'Allergy to Tree Pollen', 'Ankylosing Spondylitis', 'Chills', 'Cold', 'Common Cold', 'Cough', 'Cough caused by Common Cold', 'Coughing caused by Flu caused by Influenza', 'Dyskinesia of the Biliary Tract', 'Dyskinesia of the Urinary Tract', 'Febrile Convulsions', 'Febrile Illness Acute', 'Fever', 'Fibromyalgia', 'Flu caused by Influenza', 'Headache', 'Joint dislocations', 'Menstrual Distress', 'Mild pain', 'Muscle Inflammation', 'Muscle Injuries', 'Muscle Spasms', 'Musculoskeletal Pain', 'Myalgia', 'Nasal Congestion', 'Neuropathic Pain', 'Osteoarthritis', 'Pain', 'Postoperative pain', 'Premenstrual cramps', 'Rheumatoid Arthritis', 'Rhinopharyngitis', 'Rhinorrhoea', 'Sinusitis', 'Spasms', 'Spastic Pain of the Gastrointestinal Tract', 'Sprains', 'Symptoms Cold', 'Tension Headache', 'Toothache', 'Upper Respiratory Tract Infection', 'Whiplash Syndrome', 'Acute Torticollis', 'Articular inflammation', 'Cold or flu syndrome', 'Mild to moderate pain', 'Minor aches and pains', 'Minor pain', 'Moderate Pain', 'Moderate to severe pain', 'Erectile Dysfunction', 'NYHA Functional Class II-III Pulmonary arterial hypertension', 'Pulmonary Arterial Hypertension'])"
      ]
     },
     "execution_count": 45,
     "metadata": {},
     "output_type": "execute_result"
    }
   ],
   "source": [
    "templates_prompts_w_smiles.keys()"
   ]
  },
  {
   "cell_type": "code",
   "execution_count": 50,
   "id": "822a34dc-6e38-43ec-a56c-2b753751e2cc",
   "metadata": {},
   "outputs": [
    {
     "data": {
      "text/plain": [
       "2249"
      ]
     },
     "execution_count": 50,
     "metadata": {},
     "output_type": "execute_result"
    }
   ],
   "source": [
    "num_tokens_from_string(templates_prompts_w_smiles['Headache']['prompt'], \"cl100k_base\")"
   ]
  },
  {
   "cell_type": "code",
   "execution_count": null,
   "id": "b3d3ea3b-593a-43e3-9a14-b77ed1f3bc7e",
   "metadata": {},
   "outputs": [],
   "source": []
  }
 ],
 "metadata": {
  "kernelspec": {
   "display_name": "Python 3 (ipykernel)",
   "language": "python",
   "name": "python3"
  },
  "language_info": {
   "codemirror_mode": {
    "name": "ipython",
    "version": 3
   },
   "file_extension": ".py",
   "mimetype": "text/x-python",
   "name": "python",
   "nbconvert_exporter": "python",
   "pygments_lexer": "ipython3",
   "version": "3.8.9"
  }
 },
 "nbformat": 4,
 "nbformat_minor": 5
}
