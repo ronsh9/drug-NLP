{
 "cells": [
  {
   "cell_type": "code",
   "execution_count": 9,
   "id": "ed64bb67-9c8d-4271-9aab-81dce9b24ca3",
   "metadata": {},
   "outputs": [],
   "source": [
    "import pandas as pd\n",
    "import os\n",
    "import json\n",
    "\n",
    "os.getcwd()"
   ]
  },
  {
   "cell_type": "code",
   "execution_count": 5,
   "id": "167cab72-eae2-42c6-952c-a17598898c02",
   "metadata": {},
   "outputs": [],
   "source": [
    "file_name = \"subsampleprint(data)d_drug_info.json\"\n",
    "# Open and read the JSON file\n",
    "with open(file_name, 'r') as file:\n",
    "    data = json.load(file)\n",
    "\n",
    "df = pd.DataFrame(data)"
   ]
  },
  {
   "cell_type": "code",
   "execution_count": 108,
   "id": "52bc3710-40b5-4525-9396-b68bf36e19d7",
   "metadata": {},
   "outputs": [],
   "source": [
    "drugs = df.columns\n",
    "rows = df.index\n",
    "disease_prompts = dict()\n",
    "\n",
    "\n",
    "for drug in drugs:\n",
    "    diseases = df[drug]['Disease Information']\n",
    "    receptors = df[drug]['Additional Information']['targets']\n",
    "    rec_data = dict()\n",
    "    k = list(df[drug]['Active Ingredients'].keys())\n",
    "    smile = df[drug]['Active Ingredients'][k[0]]\n",
    "        \n",
    "    for r in receptors:\n",
    "        rec_data[r['Label']] = {'Amino acid sequence' : r['Detailed Info']['Amino acid sequence'], \n",
    "                                'General Function': r['Detailed Info']['General Function'],\n",
    "                                'Specific Function' : r['Detailed Info']['Specific Function']}                   \n",
    "    \n",
    "    for dis in diseases:\n",
    "        if diseases[dis]==None:\n",
    "            info =''\n",
    "        else:\n",
    "            info = ', is '+ diseases[dis]\n",
    "        disease_prompts[dis] = {'info': info, 'receptors': rec_data, 'drug_smile' : smile}\n",
    "        "
   ]
  },
  {
   "cell_type": "code",
   "execution_count": 110,
   "id": "9e138764-59b2-4bf2-ba8f-aa68b96d4187",
   "metadata": {},
   "outputs": [],
   "source": [
    "templates_prompts_w_smiles = dict()\n",
    "for d in disease_prompts:\n",
    "    receptors = []\n",
    "    for r in disease_prompts[d]['receptors']:\n",
    "        gf=disease_prompts[d]['receptors'][r]['General Function']\n",
    "        sf = disease_prompts[d]['receptors'][r]['Specific Function']\n",
    "        ac = disease_prompts[d]['receptors'][r]['Amino acid sequence']\n",
    "        receptor = f'{r}, is {gf}, and {sf}. Its amino acid sequence is {ac}'\n",
    "        receptors.append(receptor)\n",
    "    allreceptors = '.'.join(receptors)\n",
    "    i=disease_prompts[d]['info']\n",
    "    prompt = f'You are an expert in drug discovery, please generate a novel binder molecule for the following disease, Respond with a SMILES of a possible binder molecule. The disease is {d} {i}. It has the following receptors: {allreceptors}'\n",
    "    templates_prompts_w_smiles[d] = {'prompt':prompt, 'smile_output': disease_prompts[d]['drug_smile']}\n",
    "            "
   ]
  },
  {
   "cell_type": "code",
   "execution_count": 111,
   "id": "9b1f835a-dd86-4a99-9661-e24645194b6c",
   "metadata": {},
   "outputs": [
    {
     "data": {
      "text/plain": [
       "'You are an expert in drug discovery, please generate a novel binder molecule for the following disease, Respond with a SMILES of a possible binder molecule. The disease is Muscle Spasms . It has the following receptors: Prostaglandin G/H synthase 2, is Prostaglandin-endoperoxide synthase activity, and Converts arachidonate to prostaglandin H2 (PGH2), a committed step in prostanoid synthesis. Constitutively expressed in some tissues in physiological conditions, such as the endothelium, kidney and brain, and in pathological conditions, such as in cancer. PTGS2 is responsible for production of inflammatory prostaglandins. Up-regulation of PTGS2 is also associated with increased cell adhesion, phenotypic changes, resistance to apoptosis and tumor angiogenesis. In cancer cells, PTGS2 is a key step in the production of prostaglandin E2 (PGE2), which plays important roles in modulating motility, proliferation and resistance to apoptosis.. Its amino acid sequence is >lcl|BSEQ0021832|Prostaglandin G/H synthase 2\\nMLARALLLCAVLALSHTANPCCSHPCQNRGVCMSVGFDQYKCDCTRTGFYGENCSTPEFL\\nTRIKLFLKPTPNTVHYILTHFKGFWNVVNNIPFLRNAIMSYVLTSRSHLIDSPPTYNADY\\nGYKSWEAFSNLSYYTRALPPVPDDCPTPLGVKGKKQLPDSNEIVEKLLLRRKFIPDPQGS\\nNMMFAFFAQHFTHQFFKTDHKRGPAFTNGLGHGVDLNHIYGETLARQRKLRLFKDGKMKY\\nQIIDGEMYPPTVKDTQAEMIYPPQVPEHLRFAVGQEVFGLVPGLMMYATIWLREHNRVCD\\nVLKQEHPEWGDEQLFQTSRLILIGETIKIVIEDYVQHLSGYHFKLKFDPELLFNKQFQYQ\\nNRIAAEFNTLYHWHPLLPDTFQIHDQKYNYQQFIYNNSILLEHGITQFVESFTRQIAGRV\\nAGGRNVPPAVQKVSQASIDQSRQMKYQSFNEYRKRFMLKPYESFEELTGEKEMSAELEAL\\nYGDIDAVELYPALLVEKPRPDAIFGETMVEVGAPFSLKGLMGNVICSPAYWKPSTFGGEV\\nGFQIINTASIQSLICNNVKGCPFTSFSVPDPELIKTVTINASSSRSGLDDINPTVLLKER\\nSTEL.Prostaglandin G/H synthase 1, is Prostaglandin-endoperoxide synthase activity, and Converts arachidonate to prostaglandin H2 (PGH2), a committed step in prostanoid synthesis. Involved in the constitutive production of prostanoids in particular in the stomach and platelets. In gastric epithelial cells, it is a key step in the generation of prostaglandins, such as prostaglandin E2 (PGE2), which plays an important role in cytoprotection. In platelets, it is involved in the generation of thromboxane A2 (TXA2), which promotes platelet activation and aggregation, vasoconstriction and proliferation of vascular smooth muscle cells.. Its amino acid sequence is >lcl|BSEQ0036935|Prostaglandin G/H synthase 1\\nMSRSLLLWFLLFLLLLPPLPVLLADPGAPTPVNPCCYYPCQHQGICVRFGLDRYQCDCTR\\nTGYSGPNCTIPGLWTWLRNSLRPSPSFTHFLLTHGRWFWEFVNATFIREMLMRLVLTVRS\\nNLIPSPPTYNSAHDYISWESFSNVSYYTRILPSVPKDCPTPMGTKGKKQLPDAQLLARRF\\nLLRRKFIPDPQGTNLMFAFFAQHFTHQFFKTSGKMGPGFTKALGHGVDLGHIYGDNLERQ\\nYQLRLFKDGKLKYQVLDGEMYPPSVEEAPVLMHYPRGIPPQSQMAVGQEVFGLLPGLMLY\\nATLWLREHNRVCDLLKAEHPTWGDEQLFQTTRLILIGETIKIVIEEYVQQLSGYFLQLKF\\nDPELLFGVQFQYRNRIAMEFNHLYHWHPLMPDSFKVGSQEYSYEQFLFNTSMLVDYGVEA\\nLVDAFSRQIAGRIGGGRNMDHHILHVAVDVIRESREMRLQPFNEYRKRFGMKPYTSFQEL\\nVGEKEMAAELEELYGDIDALEFYPGLLLEKCHPNSIFGESMIEIGAPFSLKGLLGNPICS\\nPEYWKPSTFGGEVGFNIVKTATLKKLVCLNTKTCPYVSFRVPDASQDDGPAVERPSTEL.Prostaglandin E synthase 3, is Unfolded protein binding, and Cytosolic prostaglandin synthase that catalyzes the oxidoreduction of prostaglandin endoperoxide H2 (PGH2) to prostaglandin E2 (PGE2) (PubMed:10922363). Molecular chaperone that localizes to genomic response elements in a hormone-dependent manner and disrupts receptor-mediated transcriptional activation, by promoting disassembly of transcriptional regulatory complexes (PubMed:11274138, PubMed:12077419). Facilitates HIF alpha proteins hydroxylation via interaction with EGLN1/PHD2, leading to recruit EGLN1/PHD2 to the HSP90 pathway (PubMed:24711448).. Its amino acid sequence is >lcl|BSEQ0004870|Prostaglandin E synthase 3\\nMQPASAKWYDRRDYVFIEFCVEDSKDVNVNFEKSKLTFSCLGGSDNFKHLNEIDLFHCID\\nPNDSKHKRTDRSILCCLRKGESGQSWPRLTKERAKLNWLSVDFNNWKDWEDDSDEDMSNF\\nDRFSEMMNNMGGDEDVDLPEVDGADDDSQDSDDEKMPDLE.Transient receptor potential cation channel subfamily V member 1, is Transmembrane signaling receptor activity, and Ligand-activated non-selective calcium permeant cation channel involved in detection of noxious chemical and thermal stimuli. Seems to mediate proton influx and may be involved in intracellular acidosis in nociceptive neurons. Involved in mediation of inflammatory pain and hyperalgesia. Sensitized by a phosphatidylinositol second messenger system activated by receptor tyrosine kinases, which involves PKC isozymes and PCL. Can be activated by endogenous compounds, including 12-hydroperoxytetraenoic acid and bradykinin. Acts as ionotropic endocannabinoid receptor with central neuromodulatory effects. Triggers a form of long-term depression (TRPV1-LTD) mediated by the endocannabinoid anandamine in the hippocampus and nucleus accumbens by affecting AMPA receptors endocytosis (By similarity). Activation by vanilloids, like capsaicin, and temperatures higher than 42 degrees Celsius, exhibits a time- and Ca(2+)-dependent outward rectification, followed by a long-lasting refractory state. Mild extracellular acidic pH (6.5) potentiates channel activation by noxious heat and vanilloids, whereas acidic conditions (pH <6) directly activate the channel.. Its amino acid sequence is >lcl|BSEQ0037113|Transient receptor potential cation channel subfamily V member 1\\nMKKWSSTDLGAAADPLQKDTCPDPLDGDPNSRPPPAKPQLSTAKSRTRLFGKGDSEEAFP\\nVDCPHEEGELDSCPTITVSPVITIQRPGDGPTGARLLSQDSVAASTEKTLRLYDRRSIFE\\nAVAQNNCQDLESLLLFLQKSKKHLTDNEFKDPETGKTCLLKAMLNLHDGQNTTIPLLLEI\\nARQTDSLKELVNASYTDSYYKGQTALHIAIERRNMALVTLLVENGADVQAAAHGDFFKKT\\nKGRPGFYFGELPLSLAACTNQLGIVKFLLQNSWQTADISARDSVGNTVLHALVEVADNTA\\nDNTKFVTSMYNEILMLGAKLHPTLKLEELTNKKGMTPLALAAGTGKIGVLAYILQREIQE\\nPECRHLSRKFTEWAYGPVHSSLYDLSCIDTCEKNSVLEVIAYSSSETPNRHDMLLVEPLN\\nRLLQDKWDRFVKRIFYFNFLVYCLYMIIFTMAAYYRPVDGLPPFKMEKTGDYFRVTGEIL\\nSVLGGVYFFFRGIQYFLQRRPSMKTLFVDSYSEMLFFLQSLFMLATVVLYFSHLKEYVAS\\nMVFSLALGWTNMLYYTRGFQQMGIYAVMIEKMILRDLCRFMFVYIVFLFGFSTAVVTLIE\\nDGKNDSLPSESTSHRWRGPACRPPDSSYNSLYSTCLELFKFTIGMGDLEFTENYDFKAVF\\nIILLLAYVILTYILLLNMLIALMGETVNKIAQESKNIWKLQRAITILDTEKSFLKCMRKA\\nFRSGKLLQVGYTPDGKDDYRWCFRVDEVNWTTWNTNVGIINEDPGNCEGVKRTLSFSLRS\\nSRVSGRHWKNFALVPLLREASARDRQSAQPEEVYLRQFSGSLKPEDAEVFKSPAASGEK'"
      ]
     },
     "execution_count": 111,
     "metadata": {},
     "output_type": "execute_result"
    }
   ],
   "source": [
    "#Example\n",
    "templates_prompts_w_smiles['Muscle Spasms']['prompt']"
   ]
  },
  {
   "cell_type": "code",
   "execution_count": null,
   "id": "3521a960-b4f8-451c-a5db-0f0d2def9e04",
   "metadata": {},
   "outputs": [],
   "source": []
  }
 ],
 "metadata": {
  "kernelspec": {
   "display_name": "Python 3 (ipykernel)",
   "language": "python",
   "name": "python3"
  },
  "language_info": {
   "codemirror_mode": {
    "name": "ipython",
    "version": 3
   },
   "file_extension": ".py",
   "mimetype": "text/x-python",
   "name": "python",
   "nbconvert_exporter": "python",
   "pygments_lexer": "ipython3",
   "version": "3.8.9"
  }
 },
 "nbformat": 4,
 "nbformat_minor": 5
}
